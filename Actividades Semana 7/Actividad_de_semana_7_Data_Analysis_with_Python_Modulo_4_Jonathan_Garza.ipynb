{
  "nbformat": 4,
  "nbformat_minor": 0,
  "metadata": {
    "colab": {
      "provenance": [],
      "authorship_tag": "ABX9TyNYif97y9nVN6+hB/fEL1lj",
      "include_colab_link": true
    },
    "kernelspec": {
      "name": "python3",
      "display_name": "Python 3"
    },
    "language_info": {
      "name": "python"
    }
  },
  "cells": [
    {
      "cell_type": "markdown",
      "metadata": {
        "id": "view-in-github",
        "colab_type": "text"
      },
      "source": [
        "<a href=\"https://colab.research.google.com/github/jogabenn/Actividades-MNA-Inteligencia-Artificial-y-Aprendizaje-Automatico/blob/main/Actividades%20Semana%207/Actividad_de_semana_7_Data_Analysis_with_Python_Modulo_4_Jonathan_Garza.ipynb\" target=\"_parent\"><img src=\"https://colab.research.google.com/assets/colab-badge.svg\" alt=\"Open In Colab\"/></a>"
      ]
    },
    {
      "cell_type": "markdown",
      "source": [
        "**Instituto Tecnológico y de Estudios Superiores de Monterrey**\n",
        "\n",
        "Maestría en Inteligencia Artificial Aplicada (MNA)\n",
        "\n",
        "Ciencia y Analítica de Datos\n",
        "\n",
        "**Actividad de Semana 7: Data Analysis with Python Módulo 4**\n",
        "\n",
        "**Jonathan Garza Bennet - A01793038**"
      ],
      "metadata": {
        "id": "3dZTIgPlSee_"
      }
    },
    {
      "cell_type": "markdown",
      "source": [
        "**Importar Librerías Requeridas**"
      ],
      "metadata": {
        "id": "_2LrBdWx5W5x"
      }
    },
    {
      "cell_type": "code",
      "execution_count": 77,
      "metadata": {
        "id": "SpU55qf4R13J"
      },
      "outputs": [],
      "source": [
        "#Se importan todas las librerías requeridad para los ejercicios\n",
        "\n",
        "import pandas as pd\n",
        "import numpy as np\n",
        "import matplotlib.pyplot as plt\n",
        "from sklearn.linear_model import LinearRegression\n",
        "import seaborn as sns\n",
        "from sklearn.preprocessing import PolynomialFeatures\n",
        "from sklearn.pipeline import Pipeline\n",
        "from sklearn.preprocessing import StandardScaler\n",
        "from sklearn.metrics import mean_squared_error, r2_score"
      ]
    },
    {
      "cell_type": "markdown",
      "source": [
        "**Se descarga y crea la base de datos**"
      ],
      "metadata": {
        "id": "sqDbw8NV5G6I"
      }
    },
    {
      "cell_type": "code",
      "source": [
        "#Establecer la url de donde se descargará el archivo csv para los ejercicios\n",
        "path = 'https://cf-courses-data.s3.us.cloud-object-storage.appdomain.cloud/IBMDeveloperSkillsNetwork-DA0101EN-SkillsNetwork/labs/Data%20files/automobileEDA.csv'\n",
        "\n",
        "#Descargar el archivo, asignarlo a un dataframe y asignar el nombre deseado de las columnas.\n",
        "df = pd.read_csv(path)\n",
        "\n",
        "#Visualizar el encabezado del archivo\n",
        "df.head()"
      ],
      "metadata": {
        "colab": {
          "base_uri": "https://localhost:8080/",
          "height": 386
        },
        "id": "yllrIfT75dT6",
        "outputId": "7f765638-33a9-4d30-8196-f41177de3b56"
      },
      "execution_count": 2,
      "outputs": [
        {
          "output_type": "execute_result",
          "data": {
            "text/plain": [
              "   symboling  normalized-losses         make aspiration num-of-doors  \\\n",
              "0          3                122  alfa-romero        std          two   \n",
              "1          3                122  alfa-romero        std          two   \n",
              "2          1                122  alfa-romero        std          two   \n",
              "3          2                164         audi        std         four   \n",
              "4          2                164         audi        std         four   \n",
              "\n",
              "    body-style drive-wheels engine-location  wheel-base    length  ...  \\\n",
              "0  convertible          rwd           front        88.6  0.811148  ...   \n",
              "1  convertible          rwd           front        88.6  0.811148  ...   \n",
              "2    hatchback          rwd           front        94.5  0.822681  ...   \n",
              "3        sedan          fwd           front        99.8  0.848630  ...   \n",
              "4        sedan          4wd           front        99.4  0.848630  ...   \n",
              "\n",
              "   compression-ratio  horsepower  peak-rpm city-mpg highway-mpg    price  \\\n",
              "0                9.0       111.0    5000.0       21          27  13495.0   \n",
              "1                9.0       111.0    5000.0       21          27  16500.0   \n",
              "2                9.0       154.0    5000.0       19          26  16500.0   \n",
              "3               10.0       102.0    5500.0       24          30  13950.0   \n",
              "4                8.0       115.0    5500.0       18          22  17450.0   \n",
              "\n",
              "  city-L/100km  horsepower-binned  diesel  gas  \n",
              "0    11.190476             Medium       0    1  \n",
              "1    11.190476             Medium       0    1  \n",
              "2    12.368421             Medium       0    1  \n",
              "3     9.791667             Medium       0    1  \n",
              "4    13.055556             Medium       0    1  \n",
              "\n",
              "[5 rows x 29 columns]"
            ],
            "text/html": [
              "\n",
              "  <div id=\"df-3097716a-3a27-43e8-a45d-c5dffe6ac684\">\n",
              "    <div class=\"colab-df-container\">\n",
              "      <div>\n",
              "<style scoped>\n",
              "    .dataframe tbody tr th:only-of-type {\n",
              "        vertical-align: middle;\n",
              "    }\n",
              "\n",
              "    .dataframe tbody tr th {\n",
              "        vertical-align: top;\n",
              "    }\n",
              "\n",
              "    .dataframe thead th {\n",
              "        text-align: right;\n",
              "    }\n",
              "</style>\n",
              "<table border=\"1\" class=\"dataframe\">\n",
              "  <thead>\n",
              "    <tr style=\"text-align: right;\">\n",
              "      <th></th>\n",
              "      <th>symboling</th>\n",
              "      <th>normalized-losses</th>\n",
              "      <th>make</th>\n",
              "      <th>aspiration</th>\n",
              "      <th>num-of-doors</th>\n",
              "      <th>body-style</th>\n",
              "      <th>drive-wheels</th>\n",
              "      <th>engine-location</th>\n",
              "      <th>wheel-base</th>\n",
              "      <th>length</th>\n",
              "      <th>...</th>\n",
              "      <th>compression-ratio</th>\n",
              "      <th>horsepower</th>\n",
              "      <th>peak-rpm</th>\n",
              "      <th>city-mpg</th>\n",
              "      <th>highway-mpg</th>\n",
              "      <th>price</th>\n",
              "      <th>city-L/100km</th>\n",
              "      <th>horsepower-binned</th>\n",
              "      <th>diesel</th>\n",
              "      <th>gas</th>\n",
              "    </tr>\n",
              "  </thead>\n",
              "  <tbody>\n",
              "    <tr>\n",
              "      <th>0</th>\n",
              "      <td>3</td>\n",
              "      <td>122</td>\n",
              "      <td>alfa-romero</td>\n",
              "      <td>std</td>\n",
              "      <td>two</td>\n",
              "      <td>convertible</td>\n",
              "      <td>rwd</td>\n",
              "      <td>front</td>\n",
              "      <td>88.6</td>\n",
              "      <td>0.811148</td>\n",
              "      <td>...</td>\n",
              "      <td>9.0</td>\n",
              "      <td>111.0</td>\n",
              "      <td>5000.0</td>\n",
              "      <td>21</td>\n",
              "      <td>27</td>\n",
              "      <td>13495.0</td>\n",
              "      <td>11.190476</td>\n",
              "      <td>Medium</td>\n",
              "      <td>0</td>\n",
              "      <td>1</td>\n",
              "    </tr>\n",
              "    <tr>\n",
              "      <th>1</th>\n",
              "      <td>3</td>\n",
              "      <td>122</td>\n",
              "      <td>alfa-romero</td>\n",
              "      <td>std</td>\n",
              "      <td>two</td>\n",
              "      <td>convertible</td>\n",
              "      <td>rwd</td>\n",
              "      <td>front</td>\n",
              "      <td>88.6</td>\n",
              "      <td>0.811148</td>\n",
              "      <td>...</td>\n",
              "      <td>9.0</td>\n",
              "      <td>111.0</td>\n",
              "      <td>5000.0</td>\n",
              "      <td>21</td>\n",
              "      <td>27</td>\n",
              "      <td>16500.0</td>\n",
              "      <td>11.190476</td>\n",
              "      <td>Medium</td>\n",
              "      <td>0</td>\n",
              "      <td>1</td>\n",
              "    </tr>\n",
              "    <tr>\n",
              "      <th>2</th>\n",
              "      <td>1</td>\n",
              "      <td>122</td>\n",
              "      <td>alfa-romero</td>\n",
              "      <td>std</td>\n",
              "      <td>two</td>\n",
              "      <td>hatchback</td>\n",
              "      <td>rwd</td>\n",
              "      <td>front</td>\n",
              "      <td>94.5</td>\n",
              "      <td>0.822681</td>\n",
              "      <td>...</td>\n",
              "      <td>9.0</td>\n",
              "      <td>154.0</td>\n",
              "      <td>5000.0</td>\n",
              "      <td>19</td>\n",
              "      <td>26</td>\n",
              "      <td>16500.0</td>\n",
              "      <td>12.368421</td>\n",
              "      <td>Medium</td>\n",
              "      <td>0</td>\n",
              "      <td>1</td>\n",
              "    </tr>\n",
              "    <tr>\n",
              "      <th>3</th>\n",
              "      <td>2</td>\n",
              "      <td>164</td>\n",
              "      <td>audi</td>\n",
              "      <td>std</td>\n",
              "      <td>four</td>\n",
              "      <td>sedan</td>\n",
              "      <td>fwd</td>\n",
              "      <td>front</td>\n",
              "      <td>99.8</td>\n",
              "      <td>0.848630</td>\n",
              "      <td>...</td>\n",
              "      <td>10.0</td>\n",
              "      <td>102.0</td>\n",
              "      <td>5500.0</td>\n",
              "      <td>24</td>\n",
              "      <td>30</td>\n",
              "      <td>13950.0</td>\n",
              "      <td>9.791667</td>\n",
              "      <td>Medium</td>\n",
              "      <td>0</td>\n",
              "      <td>1</td>\n",
              "    </tr>\n",
              "    <tr>\n",
              "      <th>4</th>\n",
              "      <td>2</td>\n",
              "      <td>164</td>\n",
              "      <td>audi</td>\n",
              "      <td>std</td>\n",
              "      <td>four</td>\n",
              "      <td>sedan</td>\n",
              "      <td>4wd</td>\n",
              "      <td>front</td>\n",
              "      <td>99.4</td>\n",
              "      <td>0.848630</td>\n",
              "      <td>...</td>\n",
              "      <td>8.0</td>\n",
              "      <td>115.0</td>\n",
              "      <td>5500.0</td>\n",
              "      <td>18</td>\n",
              "      <td>22</td>\n",
              "      <td>17450.0</td>\n",
              "      <td>13.055556</td>\n",
              "      <td>Medium</td>\n",
              "      <td>0</td>\n",
              "      <td>1</td>\n",
              "    </tr>\n",
              "  </tbody>\n",
              "</table>\n",
              "<p>5 rows × 29 columns</p>\n",
              "</div>\n",
              "      <button class=\"colab-df-convert\" onclick=\"convertToInteractive('df-3097716a-3a27-43e8-a45d-c5dffe6ac684')\"\n",
              "              title=\"Convert this dataframe to an interactive table.\"\n",
              "              style=\"display:none;\">\n",
              "        \n",
              "  <svg xmlns=\"http://www.w3.org/2000/svg\" height=\"24px\"viewBox=\"0 0 24 24\"\n",
              "       width=\"24px\">\n",
              "    <path d=\"M0 0h24v24H0V0z\" fill=\"none\"/>\n",
              "    <path d=\"M18.56 5.44l.94 2.06.94-2.06 2.06-.94-2.06-.94-.94-2.06-.94 2.06-2.06.94zm-11 1L8.5 8.5l.94-2.06 2.06-.94-2.06-.94L8.5 2.5l-.94 2.06-2.06.94zm10 10l.94 2.06.94-2.06 2.06-.94-2.06-.94-.94-2.06-.94 2.06-2.06.94z\"/><path d=\"M17.41 7.96l-1.37-1.37c-.4-.4-.92-.59-1.43-.59-.52 0-1.04.2-1.43.59L10.3 9.45l-7.72 7.72c-.78.78-.78 2.05 0 2.83L4 21.41c.39.39.9.59 1.41.59.51 0 1.02-.2 1.41-.59l7.78-7.78 2.81-2.81c.8-.78.8-2.07 0-2.86zM5.41 20L4 18.59l7.72-7.72 1.47 1.35L5.41 20z\"/>\n",
              "  </svg>\n",
              "      </button>\n",
              "      \n",
              "  <style>\n",
              "    .colab-df-container {\n",
              "      display:flex;\n",
              "      flex-wrap:wrap;\n",
              "      gap: 12px;\n",
              "    }\n",
              "\n",
              "    .colab-df-convert {\n",
              "      background-color: #E8F0FE;\n",
              "      border: none;\n",
              "      border-radius: 50%;\n",
              "      cursor: pointer;\n",
              "      display: none;\n",
              "      fill: #1967D2;\n",
              "      height: 32px;\n",
              "      padding: 0 0 0 0;\n",
              "      width: 32px;\n",
              "    }\n",
              "\n",
              "    .colab-df-convert:hover {\n",
              "      background-color: #E2EBFA;\n",
              "      box-shadow: 0px 1px 2px rgba(60, 64, 67, 0.3), 0px 1px 3px 1px rgba(60, 64, 67, 0.15);\n",
              "      fill: #174EA6;\n",
              "    }\n",
              "\n",
              "    [theme=dark] .colab-df-convert {\n",
              "      background-color: #3B4455;\n",
              "      fill: #D2E3FC;\n",
              "    }\n",
              "\n",
              "    [theme=dark] .colab-df-convert:hover {\n",
              "      background-color: #434B5C;\n",
              "      box-shadow: 0px 1px 3px 1px rgba(0, 0, 0, 0.15);\n",
              "      filter: drop-shadow(0px 1px 2px rgba(0, 0, 0, 0.3));\n",
              "      fill: #FFFFFF;\n",
              "    }\n",
              "  </style>\n",
              "\n",
              "      <script>\n",
              "        const buttonEl =\n",
              "          document.querySelector('#df-3097716a-3a27-43e8-a45d-c5dffe6ac684 button.colab-df-convert');\n",
              "        buttonEl.style.display =\n",
              "          google.colab.kernel.accessAllowed ? 'block' : 'none';\n",
              "\n",
              "        async function convertToInteractive(key) {\n",
              "          const element = document.querySelector('#df-3097716a-3a27-43e8-a45d-c5dffe6ac684');\n",
              "          const dataTable =\n",
              "            await google.colab.kernel.invokeFunction('convertToInteractive',\n",
              "                                                     [key], {});\n",
              "          if (!dataTable) return;\n",
              "\n",
              "          const docLinkHtml = 'Like what you see? Visit the ' +\n",
              "            '<a target=\"_blank\" href=https://colab.research.google.com/notebooks/data_table.ipynb>data table notebook</a>'\n",
              "            + ' to learn more about interactive tables.';\n",
              "          element.innerHTML = '';\n",
              "          dataTable['output_type'] = 'display_data';\n",
              "          await google.colab.output.renderOutput(dataTable, element);\n",
              "          const docLink = document.createElement('div');\n",
              "          docLink.innerHTML = docLinkHtml;\n",
              "          element.appendChild(docLink);\n",
              "        }\n",
              "      </script>\n",
              "    </div>\n",
              "  </div>\n",
              "  "
            ]
          },
          "metadata": {},
          "execution_count": 2
        }
      ]
    },
    {
      "cell_type": "markdown",
      "source": [
        "**Regresión Lineal Simple y Múltiple**"
      ],
      "metadata": {
        "id": "vIlMYs0Sg1B0"
      }
    },
    {
      "cell_type": "markdown",
      "source": [
        "<p>Un ejemplo de un modelo de datos que usaremos es:</p>\n",
        "<b>Regresión Lineal Simple</b>\n",
        "\n",
        "<br>\n",
        "<p>La regresión lineal simple es un método que nos ayuda a comprender la relación entre dos variables:</p>\n",
        "<ul>\n",
        "    <li>El predictor/variable independiente (X)</li>\n",
        "    <li>La respuesta/variable dependiente (que queremos predecir)(Y)</li>\n",
        "</ul>\n",
        "\n",
        "<p>El resultado de la regresión lineal es una <b> función lineal</b> that predicts the response (dependent) que predice la variable de respuesta (dependiente) en función de la variable predictora (independiente).</p>\n"
      ],
      "metadata": {
        "id": "ic6DOIhK65UK"
      }
    },
    {
      "cell_type": "markdown",
      "source": [
        "$$\n",
        "Y: Respuesta \\ (Variable)\\\\\\\\\\\\\\\\\\\\\n",
        "X: Predictor \\ (Variables)\n",
        "$$\n",
        "\n",
        "<b>Función Lineal</b>\n",
        "$$\n",
        "Yhat = a + b  X\n",
        "$$\n",
        "\n",
        "<ul>\n",
        "    <li>a se refiere a la <b>intersección</b> de la línea de regresión, en otras palabras: el valor de Y cuando X es 0</li>\n",
        "    <li>b se refiere a la <b>pendiente </b> de la línea de regresión, en otras palabras: el valor con el que cambia Y cuando X aumenta en 1 unidad</li>\n",
        "</ul>"
      ],
      "metadata": {
        "id": "G65OhqAB8S8U"
      }
    },
    {
      "cell_type": "code",
      "source": [
        "#Se llama a la función de regresión lineal y se asigna a la variable lm\n",
        "lm = LinearRegression()\n",
        "lm\n",
        "\n",
        "#Se utiliza highway-mpg como primer intento de predictor del precio y se asignan a las variables correspondientes\n",
        "X = df[['highway-mpg']]\n",
        "Y = df['price']\n",
        "\n",
        "#Se entrena al modelo de regresión lineal con las variables seleccionadas\n",
        "lm.fit(X,Y)\n",
        "\n",
        "#Se predice el precio de los primeros 5 elementos del predictor\n",
        "Yhat=lm.predict(X)\n",
        "\n",
        "print('Los primeros 5 elementos de la predicción son:\\n{}'.format(Yhat[0:5])+'\\n')\n",
        "\n",
        "#Se imprimen los pesos de la regresión:\n",
        "print('El coeficiente a de lm es: {}'.format(lm.intercept_)+'\\n')\n",
        "print('El coeficiente b de lm es: {}'.format(lm.coef_)+'\\n')\n",
        "\n",
        "#Se crea un objeto nuevo de regresión lineal\n",
        "lm1 = LinearRegression()\n",
        "\n",
        "#Se utiliza highway-mpg como primer intento de predictor del precio y se asignan a las variables correspondientes\n",
        "X1 = df[['engine-size']]\n",
        "Y = df['price']\n",
        "\n",
        "#Se entrena al modelo de regresión lineal con las variables seleccionadas\n",
        "lm1.fit(X1,Y)\n",
        "\n",
        "#Se imprimen los pesos de la regresión:\n",
        "print('El coeficiente a de lm1 es: {}'.format(lm1.intercept_)+'\\n')\n",
        "print('El coeficiente b de lm1 es: {}'.format(lm1.coef_)+'\\n')\n",
        "\n",
        "#Se pueden obtener los mismos resultados si se utiliza la ecuación de la recta:\n",
        "Price=lm1.intercept_ + lm1.coef_*X1.values\n",
        "\n",
        "#Se imprimen los primeros 5 valore obtenidos por medio de predict y la ecuación Price\n",
        "print('Los primeros 5 elementos de lm1 por medio del método predict son:\\n{}'.format(lm1.predict(X1)[0:5])+'\\n')\n",
        "print('Los primeros 5 elementos de la ecuación Price son:\\n{}'.format(Price[0:5])+'\\n')"
      ],
      "metadata": {
        "colab": {
          "base_uri": "https://localhost:8080/"
        },
        "id": "H_QNdATQ72kk",
        "outputId": "a99fd722-73ab-49e5-e8ea-242a97707fa5"
      },
      "execution_count": 20,
      "outputs": [
        {
          "output_type": "stream",
          "name": "stdout",
          "text": [
            "Los primeros 5 elementos de la predicción son:\n",
            "[16236.50464347 16236.50464347 17058.23802179 13771.3045085\n",
            " 20345.17153508]\n",
            "\n",
            "El coeficiente a de lm es: 38423.3058581574\n",
            "\n",
            "El coeficiente b de lm es: [-821.73337832]\n",
            "\n",
            "El coeficiente a de lm1 es: -7963.338906281042\n",
            "\n",
            "El coeficiente b de lm1 es: [166.86001569]\n",
            "\n",
            "Los primeros 5 elementos de lm1 por medio del método predict son:\n",
            "[13728.4631336  13728.4631336  17399.38347881 10224.40280408\n",
            " 14729.62322775]\n",
            "\n",
            "Los primeros 5 elementos de la ecuación Price son:\n",
            "[[13728.4631336 ]\n",
            " [13728.4631336 ]\n",
            " [17399.38347881]\n",
            " [10224.40280408]\n",
            " [14729.62322775]]\n",
            "\n"
          ]
        }
      ]
    },
    {
      "cell_type": "markdown",
      "source": [
        "<h4><b>Regresión Lineal Múltiple</b></h4>\n",
        "\n",
        "Si queremos usar más variables en nuestro modelo para predecir el precio del automóvil, podemos usar la <b>regresión lineal múltiple</b>. La regresión lineal múltiple es muy similar a la regresión lineal simple, pero este método se utiliza para explicar la relación entre una variable de respuesta continua (dependiente) y <b>dos o más</b> variables predictoras (independientes). La mayoría de los modelos de regresión del mundo real involucran múltiples predictores. Ilustraremos la estructura usando cuatro variables predictoras, pero estos resultados pueden generalizarse a cualquier número entero:\n",
        "\n",
        "$$\n",
        "Y: Respuesta \\ (Variable)\\\\\\\\\\\\\\\\\\\\\n",
        "X\\_1 :Predictor\\ (Variable \\ 1)\\\\\\\\\n",
        "X\\_2: Predictor\\ (Variable \\ 2)\\\\\\\\\n",
        "X\\_3: Predictor\\ (Variable \\ 3)\\\\\\\\\n",
        "X\\_4: Predictor\\ (Variable \\ 4)\\\\\\\\\n",
        "$$\n",
        "\n",
        "$$\n",
        "a: variable \\ independiente\\\\\\\\\\\\\\\\\\\\\n",
        "b\\_1 :coeficientes \\ de \\ la\\ Variable \\ 1\\\\\\\\\n",
        "b\\_2: coeficientes \\ de \\ la\\ Variable \\ 2\\\\\\\\\n",
        "b\\_3: coeficientes \\ de \\ la\\ Variable \\ 3\\\\\\\\\n",
        "b\\_4: coeficientes \\ de \\ la\\ Variable \\ 4\\\\\\\\\n",
        "$$\n",
        "\n",
        "La ecuación resultante es:\n",
        "\n",
        "$$\n",
        "Yhat = a + b\\_1 X\\_1 + b\\_2 X\\_2 + b\\_3 X\\_3 + b\\_4 X\\_4\n",
        "$$"
      ],
      "metadata": {
        "id": "NuaWcvLNZgai"
      }
    },
    {
      "cell_type": "code",
      "source": [
        "#Se crea la variable con los elementos predictores Z\n",
        "Z3 = df[['horsepower', 'curb-weight', 'engine-size', 'highway-mpg']]\n",
        "\n",
        "#Se entrena de nuevo el modelo lm con las nuevas variables predictoras\n",
        "lm3 = LinearRegression()\n",
        "lm3.fit(Z3, Y)\n",
        "\n",
        "#Se imprimen los pesos de la regresión\n",
        "print('La variable independiente de lm3 es: {}'.format(lm3.intercept_)+'\\n')\n",
        "print('Los coeficientes de lm3 son: {}'.format(lm3.coef_)+'\\n')\n",
        "\n",
        "#Se crea un nuevo modelo usando otras variables predictoras\n",
        "lm4 = LinearRegression()\n",
        "\n",
        "Z4 = df[['normalized-losses' , 'highway-mpg']]\n",
        "\n",
        "lm4.fit(Z4, Y)\n",
        "\n",
        "#Se imprimen los pesos de la nueva regresión\n",
        "print('La variable independiente de lm4 es: {}'.format(lm4.intercept_)+'\\n')\n",
        "print('Los coeficientes de lm4 son: {}'.format(lm4.coef_)+'\\n')\n"
      ],
      "metadata": {
        "colab": {
          "base_uri": "https://localhost:8080/"
        },
        "id": "zGdxu-z1cZKt",
        "outputId": "19f017aa-1553-400e-a2f8-207c58ae0c4a"
      },
      "execution_count": 23,
      "outputs": [
        {
          "output_type": "stream",
          "name": "stdout",
          "text": [
            "La variable independiente de lm3 es: -15806.62462632922\n",
            "\n",
            "Los coeficientes de lm3 son: [53.49574423  4.70770099 81.53026382 36.05748882]\n",
            "\n",
            "La variable independiente de lm4 es: 38201.31327245728\n",
            "\n",
            "Los coeficientes de lm4 son: [   1.49789586 -820.45434016]\n",
            "\n"
          ]
        }
      ]
    },
    {
      "cell_type": "markdown",
      "source": [
        "**Evaluación de Modelos Usando Visualización**"
      ],
      "metadata": {
        "id": "jy0dChrrgiw7"
      }
    },
    {
      "cell_type": "markdown",
      "source": [
        "**Gráfica de regresión lineal**\n",
        "\n",
        "Este gráfico mostrará una combinación de puntos de datos dispersos (un **gráfico de dispersión**), así como la **línea** resultante de la regresión lineal ajustada que pasa por los datos. Esto nos dará una estimación razonable de la relación entre las dos variables, la fuerza de la correlación, así como la dirección (correlación positiva o negativa)."
      ],
      "metadata": {
        "id": "djf3HY6Yhc6m"
      }
    },
    {
      "cell_type": "code",
      "source": [
        "#Se visualiza highway-mpg como posible predictor de price\n",
        "\n",
        "#Ancho de gráfica\n",
        "width = 12\n",
        "\n",
        "#Altura de gráfica\n",
        "height = 10\n",
        "\n",
        "#Se configura gráfica de regresión lineal\n",
        "plt.figure(figsize=(width, height))\n",
        "sns.regplot(x=\"highway-mpg\", y=\"price\", data=df)\n",
        "plt.ylim(0,)\n",
        "\n",
        "#Se despliega gráfica\n",
        "plt.show()\n",
        "\n",
        "#Se visualiza peak-rpm como posible predictor de price\n",
        "\n",
        "#Ancho de gráfica\n",
        "width = 12\n",
        "\n",
        "#Altura de gráfica\n",
        "height = 10\n",
        "\n",
        "#Se configura gráfica de regresión lineal\n",
        "plt.figure(figsize=(width, height))\n",
        "sns.regplot(x=\"peak-rpm\", y=\"price\", data=df)\n",
        "plt.ylim(0,)\n",
        "\n",
        "#Se despliega gráfica\n",
        "plt.show()"
      ],
      "metadata": {
        "colab": {
          "base_uri": "https://localhost:8080/",
          "height": 1000
        },
        "id": "PvtBtFtIhNRi",
        "outputId": "5b7ce70c-3162-4e2c-935e-7bf6f0dd3c0b"
      },
      "execution_count": 28,
      "outputs": [
        {
          "output_type": "display_data",
          "data": {
            "text/plain": [
              "<Figure size 864x720 with 1 Axes>"
            ],
            "image/png": "[encoded data removed]"
          },
          "metadata": {
            "needs_background": "light"
          }
        },
        {
          "output_type": "display_data",
          "data": {
            "text/plain": [
              "<Figure size 864x720 with 1 Axes>"
            ],
            "image/png": "[encoded data removed]"
          },
          "metadata": {
            "needs_background": "light"
          }
        }
      ]
    },
    {
      "cell_type": "markdown",
      "source": [
        "**Gráfica de Residuos**\n",
        "\n",
        "Un residuo es la diferencia entre el valor observado (y) y el valor pronosticado (Yhat) se llama residual (e). Cuando observamos un gráfico de regresión, el residuo es la distancia desde el punto de datos hasta la línea de regresión ajustada.\n",
        "\n",
        "Una gráfica de residuos es un gráfico que muestra los residuos en el eje y vertical y la variable independiente en el eje x horizontal.\n",
        "\n",
        "Si los puntos en una gráfica de residuos se **distribuyen aleatoriamente alrededor del eje x**, entonces **un modelo lineal es apropiado** para los datos."
      ],
      "metadata": {
        "id": "09VxOU4Ni-v8"
      }
    },
    {
      "cell_type": "code",
      "source": [
        "#Ancho de gráfica\n",
        "width = 12\n",
        "\n",
        "#Altura de gráfica\n",
        "height = 10\n",
        "\n",
        "#Se configura gráfica de residuos\n",
        "plt.figure(figsize=(width, height))\n",
        "sns.residplot(x=df['highway-mpg'],y=df['price'])\n",
        "plt.show()"
      ],
      "metadata": {
        "colab": {
          "base_uri": "https://localhost:8080/",
          "height": 606
        },
        "id": "quBTWXJni-6g",
        "outputId": "e420d5a8-73d3-449a-af5c-2c008fa6cef7"
      },
      "execution_count": 29,
      "outputs": [
        {
          "output_type": "display_data",
          "data": {
            "text/plain": [
              "<Figure size 864x720 with 1 Axes>"
            ],
            "image/png": "[encoded data removed]"
          },
          "metadata": {
            "needs_background": "light"
          }
        }
      ]
    },
    {
      "cell_type": "markdown",
      "source": [
        "Los residuos de la gráfica anterior no se encuentran distribuidos aleatorimente alredor del eje X"
      ],
      "metadata": {
        "id": "KkOisgEMk3Qu"
      }
    },
    {
      "cell_type": "markdown",
      "source": [
        "Para la Regresión Lineal Múltiple se vuelve un poco más complejo y las gráficas anteriores no se pueden usar. En su lugar, se utilizan la gráficas de dispersión."
      ],
      "metadata": {
        "id": "6wbaiFYMlLgC"
      }
    },
    {
      "cell_type": "code",
      "source": [
        "#Se utiliza el modelo RLM anterior para predecir el conjunto Z3\n",
        "Y_hat = lm3.predict(Z3)\n",
        "\n",
        "#Se reutilizan las dimensiones anteriores\n",
        "plt.figure(figsize=(width, height))\n",
        "\n",
        "#Se configura la gráfica de dispersión con respecto a la variable de interés\n",
        "ax1 = sns.distplot(df['price'], hist=False, color=\"r\", label=\"Actual Value\")\n",
        "sns.distplot(Y_hat, hist=False, color=\"b\", label=\"Fitted Values\" , ax=ax1)\n",
        "\n",
        "#Se configuran las etiquetas\n",
        "plt.title('Actual vs Fitted Values for Price')\n",
        "plt.xlabel('Price (in dollars)')\n",
        "plt.ylabel('Proportion of Cars')\n",
        "\n",
        "#Se despliega la gráfica\n",
        "plt.show()\n",
        "plt.close()"
      ],
      "metadata": {
        "colab": {
          "base_uri": "https://localhost:8080/",
          "height": 714
        },
        "id": "0A7pOWMokume",
        "outputId": "377c16d3-2de8-4db3-eefa-97ae9a0b91c7"
      },
      "execution_count": 30,
      "outputs": [
        {
          "output_type": "stream",
          "name": "stderr",
          "text": [
            "/usr/local/lib/python3.7/dist-packages/seaborn/distributions.py:2619: FutureWarning: `distplot` is a deprecated function and will be removed in a future version. Please adapt your code to use either `displot` (a figure-level function with similar flexibility) or `kdeplot` (an axes-level function for kernel density plots).\n",
            "  warnings.warn(msg, FutureWarning)\n",
            "/usr/local/lib/python3.7/dist-packages/seaborn/distributions.py:2619: FutureWarning: `distplot` is a deprecated function and will be removed in a future version. Please adapt your code to use either `displot` (a figure-level function with similar flexibility) or `kdeplot` (an axes-level function for kernel density plots).\n",
            "  warnings.warn(msg, FutureWarning)\n"
          ]
        },
        {
          "output_type": "display_data",
          "data": {
            "text/plain": [
              "<Figure size 864x720 with 1 Axes>"
            ],
            "image/png": "[encoded data removed]"
          },
          "metadata": {
            "needs_background": "light"
          }
        }
      ]
    },
    {
      "cell_type": "markdown",
      "source": [
        "Podemos ver que los valores ajustados están razonablemente cerca de los valores reales ya que las dos distribuciones se superponen un poco. Sin embargo, definitivamente hay algo de espacio para mejorar."
      ],
      "metadata": {
        "id": "VEPK9c9rnVjS"
      }
    },
    {
      "cell_type": "markdown",
      "source": [
        "**Regresión Polinomial y Pipelines**\n",
        "\n",
        "\n",
        "La **regresión polinomial** es un caso particular del modelo de regresión lineal general o de los modelos de regresión lineal múltiple.\n",
        "\n",
        "Obtenemos relaciones no lineales elevando al cuadrado o estableciendo términos de orden superior de las variables predictoras.\n",
        "\n",
        "Hay diferentes órdenes de regresión polinomial:\n",
        "\n",
        "<center><b>Cuadrático o de segundo orden</b></center>\n",
        "$$\n",
        "Yhat = a + b_1 X +b_2 X^2 \n",
        "$$\n",
        "\n",
        "<center><b>Cúbico o de tercer orden</b></center>\n",
        "$$\n",
        "Yhat = a + b_1 X +b_2 X^2 +b_3 X^3\\\\\\\\\\\\\\\\\\\\\n",
        "$$\n",
        "\n",
        "<center><b>De orden superior</b>:</center>\n",
        "$$\n",
        "Y = a + b_1 X +b_2 X^2 +b_3 X^3 ....\\\\\\\\\n",
        "$$\n",
        "\n"
      ],
      "metadata": {
        "id": "08WappEqoVcs"
      }
    },
    {
      "cell_type": "code",
      "source": [
        "#Se define función para gráficar regresiones polinomiales\n",
        "def PlotPolly(model, independent_variable, dependent_variabble, Name):\n",
        "\n",
        "    #Se crea una lista de valores entre 15 y 55 como X\n",
        "    x_new = np.linspace(15, 55, 100)\n",
        "\n",
        "    #Se hace ajuste con el modelo seleccionado\n",
        "    y_new = model(x_new)\n",
        "\n",
        "    #Se realiza gráfica\n",
        "    plt.plot(independent_variable, dependent_variabble, '.', x_new, y_new, '-')\n",
        "    plt.title('Polynomial Fit with Matplotlib for Price ~ Length')\n",
        "    ax = plt.gca()\n",
        "    ax.set_facecolor((0.898, 0.898, 0.898))\n",
        "    fig = plt.gcf()\n",
        "    plt.xlabel(Name)\n",
        "    plt.ylabel('Price of Cars')\n",
        "\n",
        "    plt.show()\n",
        "    plt.close()"
      ],
      "metadata": {
        "id": "4NnpPKnuoUb2"
      },
      "execution_count": 31,
      "outputs": []
    },
    {
      "cell_type": "markdown",
      "source": [
        "En los ejercicios anteriores, se observó que no se tuvo el mejor desempeño con un modelo lineal para la relación entre 'highway-mpg' y 'price'. Se estudiará el desempeño usando una regresión polinomial."
      ],
      "metadata": {
        "id": "dponavdPvwUH"
      }
    },
    {
      "cell_type": "code",
      "source": [
        "# Se asignan las variables a X y Y\n",
        "x = df['highway-mpg']\n",
        "y = df['price']\n",
        "\n",
        "#Se utiliza un polinio de tercer orden\n",
        "f = np.polyfit(x, y, 3)\n",
        "p = np.poly1d(f)\n",
        "print('La ecuación resultante es:\\n\\n{}'.format(p)+'\\n')\n",
        "\n",
        "#Se imprime la gráfica\n",
        "PlotPolly(p, x, y, 'highway-mpg')"
      ],
      "metadata": {
        "colab": {
          "base_uri": "https://localhost:8080/",
          "height": 386
        },
        "id": "i1d3OUqyvVn-",
        "outputId": "2cf9458e-8c1f-42fd-ad15-8b3bf0ecfe82"
      },
      "execution_count": 35,
      "outputs": [
        {
          "output_type": "stream",
          "name": "stdout",
          "text": [
            "La ecuación resultante es:\n",
            "\n",
            "        3         2\n",
            "-1.557 x + 204.8 x - 8965 x + 1.379e+05\n",
            "\n"
          ]
        },
        {
          "output_type": "display_data",
          "data": {
            "text/plain": [
              "<Figure size 432x288 with 1 Axes>"
            ],
            "image/png": "[encoded data removed]"
          },
          "metadata": {
            "needs_background": "light"
          }
        }
      ]
    },
    {
      "cell_type": "markdown",
      "source": [
        "La gráfica resultante por medio del polinomo de tercer orden se ajusta mucho mejor a los datos."
      ],
      "metadata": {
        "id": "_MbYsQVFxGuu"
      }
    },
    {
      "cell_type": "code",
      "source": [
        "#Se realiza el mismo ejercicio anterior, pero con un polinomio de grado 11\n",
        "\n",
        "#Se utiliza un polinio de grado 11\n",
        "f1 = np.polyfit(x, y, 11)\n",
        "p1 = np.poly1d(f1)\n",
        "print('La ecuación resultante es:\\n\\n{}'.format(p1)+'\\n')\n",
        "\n",
        "#Se imprime la gráfica\n",
        "PlotPolly(p1,x,y, 'Highway MPG')"
      ],
      "metadata": {
        "colab": {
          "base_uri": "https://localhost:8080/",
          "height": 422
        },
        "id": "6MsI_sdpxT2s",
        "outputId": "cc3270f2-80d6-4fe4-c00f-6e4a348c002a"
      },
      "execution_count": 37,
      "outputs": [
        {
          "output_type": "stream",
          "name": "stdout",
          "text": [
            "La ecuación resultante es:\n",
            "\n",
            "            11             10             9           8         7\n",
            "-1.243e-08 x  + 4.722e-06 x  - 0.0008028 x + 0.08056 x - 5.297 x\n",
            "          6        5             4             3             2\n",
            " + 239.5 x - 7588 x + 1.684e+05 x - 2.565e+06 x + 2.551e+07 x - 1.491e+08 x + 3.879e+08\n",
            "\n"
          ]
        },
        {
          "output_type": "display_data",
          "data": {
            "text/plain": [
              "<Figure size 432x288 with 1 Axes>"
            ],
            "image/png": "[encoded data removed]"
          },
          "metadata": {
            "needs_background": "light"
          }
        }
      ]
    },
    {
      "cell_type": "markdown",
      "source": [
        "Entre mayor orden tiene el polinomio, más compleja es la solución resultante."
      ],
      "metadata": {
        "id": "QV-KOSbjydqg"
      }
    },
    {
      "cell_type": "code",
      "source": [
        "#Se crea un polinomio de grado 2 por medio de la librería Polynomial Features\n",
        "pr=PolynomialFeatures(degree=2)\n",
        "\n",
        "Z_pr=pr.fit_transform(Z3)\n",
        "\n",
        "#Se imprime la forma de los datos originales\n",
        "print('La forma de los datos originales Z3 es: {}'.format(Z3.shape)+'\\n')\n",
        "\n",
        "#Se imprime la forma de los datos transformados\n",
        "print('La forma de los datos transformados Z3 es: {}'.format(Z_pr.shape)+'\\n')"
      ],
      "metadata": {
        "colab": {
          "base_uri": "https://localhost:8080/"
        },
        "id": "tEXEBMXnyarm",
        "outputId": "448ed18d-082f-4002-cb06-3ad24e2b26f3"
      },
      "execution_count": 56,
      "outputs": [
        {
          "output_type": "stream",
          "name": "stdout",
          "text": [
            "La forma de los datos originales Z3 es: (201, 4)\n",
            "\n",
            "La forma de los datos transformados Z3 es: (201, 15)\n",
            "\n"
          ]
        }
      ]
    },
    {
      "cell_type": "markdown",
      "source": [
        "**Pipelines**"
      ],
      "metadata": {
        "id": "Hp0Xlqjn7mLN"
      }
    },
    {
      "cell_type": "markdown",
      "source": [
        "Los Pipelines de datos simplifican los pasos para procesar los datos. Usamos el módulo Pipeline para crear un pipeline, también usamos StandardScaler como un paso dentro del mismo.\n",
        "\n",
        "Creamos el pipeline creando una lista de tuples incluyendo el nombre del modelo o estimador y su constructor correspondiente."
      ],
      "metadata": {
        "id": "qmUivtjE7rnD"
      }
    },
    {
      "cell_type": "code",
      "source": [
        "#Se define la lista de tuples con los pasos a seguir\n",
        "Input=[('scale',StandardScaler()), ('polynomial', PolynomialFeatures(include_bias=False)), ('model',LinearRegression())]\n",
        "\n",
        "#Se crea el pipeline con la lista de pasos\n",
        "pipe=Pipeline(Input)\n",
        "\n",
        "#Se re-define Z3 como tipo float\n",
        "Z3 = Z3.astype(float)\n",
        "\n",
        "#Se procede con todos los pasos dentro del pipeline\n",
        "pipe.fit(Z3,y)\n",
        "\n",
        "#Se realizan las predicciones con Z3\n",
        "ypipe=pipe.predict(Z3)\n",
        "\n",
        "#Se imprimen los primeros 4 resultados despues de segir los pasos del pipeline\n",
        "print('Los primeros 4 resultados del ypipe son: {}'.format(ypipe[0:4])+'\\n')\n",
        "\n",
        "#Se crea un pipeline incluyendo un modelo de regresión lineal\n",
        "Input1=[('scale',StandardScaler()),('model',LinearRegression())]\n",
        "\n",
        "#Se crea el pipeline con la lista de pasos\n",
        "pipe1=Pipeline(Input1)\n",
        "\n",
        "#Se procede con todos los pasos dentro del pipeline\n",
        "pipe1.fit(Z3,y)\n",
        "\n",
        "#Se realizan las predicciones con Z3\n",
        "ypipe1=pipe1.predict(Z3)\n",
        "\n",
        "#Se imprimen los primeros 10 resultados despues de segir los pasos del pipeline\n",
        "print('Los primeros 10 resultados del ypipe son: {}'.format(ypipe1[0:10])+'\\n')"
      ],
      "metadata": {
        "colab": {
          "base_uri": "https://localhost:8080/"
        },
        "id": "auIkzu5H89LF",
        "outputId": "349cdc0a-d18c-436d-efe4-6c0805cd7d37"
      },
      "execution_count": 65,
      "outputs": [
        {
          "output_type": "stream",
          "name": "stdout",
          "text": [
            "Los primeros 4 resultados del ypipe son: [13102.74784201 13102.74784201 18225.54572197 10390.29636555]\n",
            "\n",
            "Los primeros 10 resultados del ypipe son: [13699.11161184 13699.11161184 19051.65470233 10620.36193015\n",
            " 15521.31420211 13869.66673213 15456.16196732 15974.00907672\n",
            " 17612.35917161 10722.32509097]\n",
            "\n"
          ]
        }
      ]
    },
    {
      "cell_type": "markdown",
      "source": [
        "**Medidas para la Evaluación dentro de la Muestra**\n",
        "\n",
        "<b>R-cuadrada</b>\n",
        "\n",
        "<p>R al cuadrado, también conocido como coeficiente de determinación, es una medida para indicar qué tan cerca están los datos de la línea de regresión ajustada.</p>\n",
        "\n",
        "<p>El valor de la R-cuadrada es el porcentaje de variación de la variable de respuesta (y) que se explica mediante un modelo lineal.</p>\n",
        "\n",
        "<b>Error Cuadrático Medio (MSE)</b>\n",
        "\n",
        "<p>El error cuadrático medio mide el promedio de los cuadrados de los errores. Es decir, la diferencia entre el valor real (y) y el valor estimado (ŷ).</p>"
      ],
      "metadata": {
        "id": "dwMISFEd_4io"
      }
    },
    {
      "cell_type": "code",
      "source": [
        "#Se hace la regresión lineal de highway_mpg\n",
        "lm.fit(X, Y)\n",
        "\n",
        "# Se calcula R^2\n",
        "print('El valor de R-cuadrada es: {}'.format(lm.score(X, Y))+'\\n')\n",
        "\n",
        "#Se realizan las predicciones y se imprimen los primeros 4 valores\n",
        "Yhat=lm.predict(X)\n",
        "print('Los primeros 4 valores predecidos son:\\n{}'.format(Yhat[0:4])+'\\n')\n",
        "\n",
        "#Se calcula el error cuadrático medio\n",
        "mse = mean_squared_error(df['price'], Yhat)\n",
        "print('El error cuadrático medio entre price y su predicción es: {}'.format(mse)+'\\n')"
      ],
      "metadata": {
        "colab": {
          "base_uri": "https://localhost:8080/"
        },
        "id": "rUHYR6nqAhUj",
        "outputId": "e5779f4e-31d6-40ba-b471-01d0951bd414"
      },
      "execution_count": 72,
      "outputs": [
        {
          "output_type": "stream",
          "name": "stdout",
          "text": [
            "El valor de R-cuadrada es: 0.4965911884339176\n",
            "\n",
            "Los primeros 4 valores predecidos son:\n",
            "[16236.50464347 16236.50464347 17058.23802179 13771.3045085 ]\n",
            "\n",
            "El error cuadrático medio entre price y su predicción es: 31635042.944639888\n",
            "\n"
          ]
        }
      ]
    },
    {
      "cell_type": "markdown",
      "source": [
        "La correlación lineal del modelo no es muy alta, lo que puede indicar que no se tiene no existe una realación de este tipo entre las variables"
      ],
      "metadata": {
        "id": "f6KcbMS1DAR_"
      }
    },
    {
      "cell_type": "markdown",
      "source": [
        "**Modelo 2: Regresión Lineal Múltiple**\n",
        "\n"
      ],
      "metadata": {
        "id": "UoCBvg_cDSze"
      }
    },
    {
      "cell_type": "code",
      "source": [
        "#Se ajusta el modelo \n",
        "lm.fit(Z3, y)\n",
        "#Se calcula el error cuadrático medio\n",
        "print('El error cuadrático medio entre price y su predicción es: {}'.format(lm.score(Z3, y)))\n",
        "\n",
        "#Se calculan las predicciones con todas las variables usando multifit\n",
        "Y_predict_multifit = lm.predict(Z3)\n",
        "\n",
        "print('El error cuadrático medio entre price y los valores predichos usando multifit es: ', \\\n",
        "      mean_squared_error(df['price'], Y_predict_multifit))"
      ],
      "metadata": {
        "colab": {
          "base_uri": "https://localhost:8080/"
        },
        "id": "qsC9VIItESXt",
        "outputId": "8fdf5c46-93c3-49a7-fc92-42db982ed756"
      },
      "execution_count": 76,
      "outputs": [
        {
          "output_type": "stream",
          "name": "stdout",
          "text": [
            "El error cuadrático medio entre price y su predicción es: 0.8093562806577457\n",
            "El error cuadrático medio entre price y los valores predichos usando multifit es:  11980366.87072649\n"
          ]
        }
      ]
    },
    {
      "cell_type": "markdown",
      "source": [
        "El 80.94% de la variación se explica por medio de esta regresión lineal múltiple"
      ],
      "metadata": {
        "id": "wbvMAhHLEpfx"
      }
    },
    {
      "cell_type": "markdown",
      "source": [
        "**Modelo 3: Ajuste Polinomial**"
      ],
      "metadata": {
        "id": "u4x-FHJRGJtY"
      }
    },
    {
      "cell_type": "code",
      "source": [
        "#Se calcula r cuadrada usando el módulo de Phyton\n",
        "r_squared = r2_score(y, p(x))\n",
        "\n",
        "#Se imprime el resultado\n",
        "print('El valor de R cuadrada del modelo polinomial es: ', r_squared)\n",
        "\n",
        "#Se imprime el error cuadrático medio\n",
        "print('El error cuadrático medio entre price y los valores predichos usando el modelo polinomial es: ', \\\n",
        "      mean_squared_error(df['price'], p(x)))\n"
      ],
      "metadata": {
        "colab": {
          "base_uri": "https://localhost:8080/"
        },
        "id": "QjQhOjPfGG8W",
        "outputId": "89022fa2-8757-45bd-ab09-35312a16610d"
      },
      "execution_count": 81,
      "outputs": [
        {
          "output_type": "stream",
          "name": "stdout",
          "text": [
            "El valor de R cuadrada del modelo polinomial es:  0.674194666390652\n",
            "El error cuadrático medio entre price y los valores predichos usando el modelo polinomial es:  20474146.426361218\n"
          ]
        }
      ]
    },
    {
      "cell_type": "markdown",
      "source": [
        "**Predicciones y Toma de Decisiones**"
      ],
      "metadata": {
        "id": "d74aHcIdGncg"
      }
    },
    {
      "cell_type": "code",
      "source": [
        "#Se crea una nueva entrada\n",
        "new_input=np.arange(1, 100, 1).reshape(-1, 1)\n",
        "\n",
        "#Se ajusta el model\n",
        "lm.fit(X, Y)\n",
        "\n",
        "#Se realizan las predicciones y se despliegan los primeros 5 valores\n",
        "yhat=lm.predict(new_input)\n",
        "print('Los primeros 5 valores de las predicciones son:\\n{}'.format(yhat[0:5]))\n",
        "\n",
        "#Se despliega la gráfica\n",
        "plt.plot(new_input, yhat)\n",
        "plt.show()"
      ],
      "metadata": {
        "colab": {
          "base_uri": "https://localhost:8080/",
          "height": 356
        },
        "id": "sdL5_h4eHzun",
        "outputId": "8e242eb8-78ee-48ce-fa2e-7d105fc0a795"
      },
      "execution_count": 85,
      "outputs": [
        {
          "output_type": "stream",
          "name": "stdout",
          "text": [
            "Los primeros 5 valores de las predicciones son:\n",
            "[37601.57247984 36779.83910151 35958.10572319 35136.37234487\n",
            " 34314.63896655]\n"
          ]
        },
        {
          "output_type": "stream",
          "name": "stderr",
          "text": [
            "/usr/local/lib/python3.7/dist-packages/sklearn/base.py:451: UserWarning: X does not have valid feature names, but LinearRegression was fitted with feature names\n",
            "  \"X does not have valid feature names, but\"\n"
          ]
        },
        {
          "output_type": "display_data",
          "data": {
            "text/plain": [
              "<Figure size 432x288 with 1 Axes>"
            ],
            "image/png": "[encoded data removed]"
          },
          "metadata": {
            "needs_background": "light"
          }
        }
      ]
    },
    {
      "cell_type": "markdown",
      "source": [
        "Ahora que hemos visualizado los diferentes modelos y generado los valores R-cuadrada y MSE para los ajustes, ¿cómo determinamos un buen ajuste del modelo?\n",
        "\n",
        "¿Cuál es un buen valor de R-cuadrado?\n",
        "Al comparar modelos, el modelo con **el valor R cuadrada más alto se ajusta mejor a los datos**.\n",
        "\n",
        "¿Qué es una buena MSE?\n",
        "Al comparar modelos, el modelo con el **valor MSE más pequeño se ajusta mejor a los datos**."
      ],
      "metadata": {
        "id": "xTSYQjGhJJEU"
      }
    }
  ]
}