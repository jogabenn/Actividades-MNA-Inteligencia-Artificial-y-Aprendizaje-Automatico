{
  "cells": [
    {
      "cell_type": "markdown",
      "metadata": {
        "id": "view-in-github",
        "colab_type": "text"
      },
      "source": [
        "<a href=\"https://colab.research.google.com/github/jogabenn/Actividades-MNA-Inteligencia-Artificial-y-Aprendizaje-Automatico/blob/main/Actividades%20Semana%209/Actividad_Semana_9_Equipo50.ipynb\" target=\"_parent\"><img src=\"https://colab.research.google.com/assets/colab-badge.svg\" alt=\"Open In Colab\"/></a>"
      ]
    },
    {
      "cell_type": "markdown",
      "metadata": {
        "id": "kjcPLKHNuf2p"
      },
      "source": [
        "# **Maestría en Inteligencia Artificial Aplicada**\n",
        "## **Curso: Inteligencia Artificial y Aprendizaje Automático**\n",
        "### Tecnológico de Monterrey\n",
        "### Prof. Luis Eduardo Falcón Morales\n",
        "\n",
        "## **Actividad de la Semana 9**\n",
        "### **Taxonomía de Métricas de Clasificación**\n",
        "\n",
        "**Nombres y matrículas de los integrantes del equipo:**\n",
        "\n",
        "* Jonathan Garza Bennet | A01793038\n",
        "* Diego Fernando Guerra Burgos | A01793499\n",
        "* Fernando Maytorena Espinosa de los Monteros | A01110946"
      ]
    },
    {
      "cell_type": "markdown",
      "metadata": {
        "id": "ozLCoRDPuf2r"
      },
      "source": [
        "---"
      ]
    },
    {
      "cell_type": "markdown",
      "metadata": {
        "id": "DUub5z7Tuf2s"
      },
      "source": [
        "Esta Tarea se deberá resolver en equipos, de acuerdo a como fueron integrados al inicio del curso.  Como has notado a lo largo del curso, una gran cantidad de métricas se han estado utilizando a lo largo de los diferentes tipos de problemáticas. Aunque en general sabemos que un problema generalmente no se aborda usando una sola métrica, sí conviene tener una idea clara de qué información nos proporciona cada una de las diferentes métricas que se seleccionan. Asimismo tener claro que la comparación de modelos diferentes con métricas diferentes no siempre es del todo válido.<br>\n",
        "<br>En particular, para los problemas de clasificación se propone una taxonomía de las métricas para clasificación por los autores del siguiente artículo:<br>\n",
        "<br>C. Ferri, J. Hernández-Orallo, R. Modroiu, An experimental comparison of performance measures for \n",
        "classification, Pattern Recognition Letters, Volume 30, Issue 1, 2009, Pages 27-38. \n",
        ">https://scholar.google.com/scholar?q=10.1016%2Fj.patrec.2008.08.010%20An%20experimental%20comparison%20of%20performance%20measures%20for%20classification%20Pattern%20recognition%20letters%202009%200167-8655%20FERRI%20C%20HERNANDEZ-ORALLO%2C%20J%20MODROIU%2C%20R%20 "
      ]
    },
    {
      "cell_type": "markdown",
      "metadata": {
        "id": "jag36_zOuf2t"
      },
      "source": [
        "### **Ejercicio 1**<br>\n",
        "**Realiza un resumen de máximo 1 cuartilla de dicho artículo.**"
      ]
    },
    {
      "cell_type": "markdown",
      "metadata": {
        "id": "9dZCV9aluf2t"
      },
      "source": [
        ">El artículo propone una taxonomía de métricas para la clasificación en el aprendizaje automático. La taxonomía se basa en tres dimensiones principales: el tipo de información que proporciona la métrica, el tipo de clasificación para el que está diseñada la métrica y el tipo de entrada que requiere la métrica.<br>\n",
        "><br>La primera dimensión, el tipo de información, se divide a su vez en tres subdimensiones: exactitud, precisión y recuperación. La exactitud es la proporción de casos correctamente clasificados, la precisión es la proporción de casos positivos correctamente clasificados y la recuperación es la proporción de casos positivos correctamente clasificados.<br>\n",
        "><br>La segunda dimensión, el tipo de clasificación, se divide a su vez en dos subdimensiones: binaria y multiclase. La clasificación binaria es la clasificación de instancias en dos clases, mientras que la clasificación multiclase es la clasificación de instancias en más de dos clases.<br>\n",
        "><br>La tercera dimensión, el tipo de entrada, se divide a su vez en dos subdimensiones: etiquetada y sin etiquetar. Los datos etiquetados son aquellos que han sido etiquetados con la etiqueta de clase correcta, mientras que los datos no etiquetados son aquellos que no han sido etiquetados con la etiqueta de clase correcta.<br>\n",
        "><br>El artículo ofrece una descripción detallada de cada una de las métricas de la taxonomía. Los autores ofrecen ejemplos de cómo se pueden utilizar las métricas en la práctica. También ofrecen un análisis de las ventajas y desventajas de cada una de las métricas.<br>\n",
        "\n",
        "><br>**Métricas basadas en un umbral y una comprensión cualitativa de error:** precisión, precisión ponderada (aritmética y geométrica), F-measure (F-score) y estadística Kappa: Estas medidas se utilizan cuando queremos que un modelo minimice el número de errores, por lo tanto, se usan comúnmente en aplicaciones de clasificadores. Dentro de esta familia, algunas de estas medidas son más apropiados para conjuntos de datos equilibrados o desequilibrados, para la detección de señales o fallos, o para tareas de recuperación de información.\n",
        "\n",
        "><br>**Métricas basadas en una comprensión probabilística del error:** es decir, el error medio absoluto (MAE), media absoluta error, el error cuadrático medio (MSE), LogLoss (entropía cruzada), dos versiones de la tasa de probabilidad (rango) y dos medidas para calibración. Estas medidas son especialmente útiles cuando queremos una evaluación de la fiabilidad de los clasificadores, no sólo midiendo cuando fallan, pero si han seleccionado el mal clase con una probabilidad alta o baja. \n",
        "\n",
        "><br>**Métricas basadas en qué tan bien el modelo clasifica los ejemplos:** AUC (Flach et al., 2003), que para dos clases equivale a la estadística de Mann-Whitney-Wilcoxon, y está estrechamente relacionado con el concepto de separabilidad. Estos son importantes para muchas aplicaciones, como el diseño de campañas de correo, la gestión de relaciones con el cliente (CRM), sistemas de recomendación, detección de fraude, filtrado de spam, etc., donde se utilizan clasificadores para seleccionar los mejores n instancias de un conjunto de datos o cuando una buena separación de clases es crucial.\n",
        "\n",
        "><br>Los autores concluyen que la taxonomía de métricas propuesta en el artículo es una herramienta útil para elegir la métrica adecuada para un determinado problema de clasificación.\n"
      ]
    },
    {
      "cell_type": "markdown",
      "metadata": {
        "id": "8sVA6SYPuf2t"
      },
      "source": [
        "### **Ejercicio 2**<br>\n",
        "Con base a la taxonomía de tres tipos de métricas definidas en el artículo (threshold, probabilistic and ranks) analiza los siguientes conjuntos de datos y en cada uno de ellos deberás hacer una propuesta de cuál o cuáles serían las mejores métricas a utilizar en cada caso. Justifica adecuadamente cada propuesta de acuerdo al tipo de problema y tipo de datos.<br><br>\n",
        "En particular haz énfasis en la métricas que hemos estado estudiando en el curso, las cuales de manera general han sido varias de las principales que usualmente se aplican, o en dado caso algunas de sus variantes. Asimismo determina se lo consideras un problema de clases o no balanceadas. Lee la información de cada liga para que contextuelices el “entendimiento del negocio”.<br><br>\n",
        "NOTA: Puedes hacer una inspección de los datos, pero no se tienen que ejecutar modelos para su entrenamiento y evaluación."
      ]
    },
    {
      "cell_type": "markdown",
      "metadata": {
        "id": "nJVdArwcuf2u"
      },
      "source": [
        "- **Ejercicio 2.1**<br>\n",
        "&nbsp;&nbsp;&nbsp;&nbsp; Breast Cancer Wisconsin (Diagnostic) Data Set:<br>\n",
        "&nbsp;&nbsp;&nbsp;&nbsp; https://archive.ics.uci.edu/ml/datasets/breast+cancer+wisconsin+(diagnostic)  "
      ]
    },
    {
      "cell_type": "code",
      "execution_count": null,
      "metadata": {
        "id": "h2jS77Xxuf2u"
      },
      "outputs": [],
      "source": []
    },
    {
      "cell_type": "markdown",
      "metadata": {
        "id": "YSlTyi3Huf2v"
      },
      "source": [
        "- **Ejercicio 2.2**<br>\n",
        "&nbsp;&nbsp;&nbsp;&nbsp; South German Credit Data Set:<br>\n",
        "&nbsp;&nbsp;&nbsp;&nbsp; https://archive.ics.uci.edu/ml/datasets/South+German+Credit+%28UPDATE%29"
      ]
    },
    {
      "cell_type": "markdown",
      "metadata": {
        "id": "BBMg3RV0X7ez"
      },
      "source": [
        ">**Descripción del problema y Objetivo**<br>\n",
        ">El South German Credit Dataset es una base de datos que contiene información sobre solicitantes de crédito. El conjunto contiene un total de 1,000 observaciones y 21 variables, de las cuales 20 son variables independientes que nos brindan información para predecir la variable \"Creditability\". La variable independiente nos indica si el sujeto correspondiente a una aplicación de crédito es digno de recibir el crédito o no, y esta variables contiene solamente dos valores: 0: Not Creditworthy (no es digno de crédito), 1: Creditworthy (sí es digno de crédito); por lo tanto este conjunto de datos, y el problema que busca resolver, requieren de un modelo de clasificación.<br><br>\n",
        ">**Técnicas de Balanceo de Clases**<br>\n",
        ">Para determinar si se requiere o no aplicar técnicas de balanceo de clases, debemos analizar las observaciones de la variable dependiente. En este conjunto es sencillo determinarlo, pues contamos solamente con dos valores. El conjunto de datos cuenta con 700 solicitudes de crédito de sujetos dignos de recibir un crédito, y 300 solicitudes de crédito de sujetos no dignos de recibir un crédito; visto de otra manera, contamos con 2.33 veces más registros Creditworth, que de registros Not Creditworthy. Si bien una relación 70-30 entre clases no es una disparidad tan elevado, sí es recomendable aplicar técnicas de balanceo de clases; y, considerando que el número total de observaciones del conjunto de datos no es tal elevado, daríamos prioridad a técnicas de *oversampling*, para evitar perder observaciones con técnicas de *undersampling*. Sin embargo, es importante considerar que el *oversampling* puede tender hacia un overfitting a la hora de elegir un algoritmo para desarrollar nuestro modelo de predicción, un buen ejemplo sería Random Forest, el cual tiene como característica evitar el *oversampling*.<br><br>\n",
        ">**Implicaciones de FN y FP**<br>\n",
        ">Entendiendo que el objetivo del conjunto de datos es determinar a qué clientes les otorgaremos un crédito, podemos fácilmente interpretar cuáles serían las consecuencias de predecir un falso negativo y un falso positivo. En el caso de predecir un falso negativo, el modelo estaría prácticamente negando la aprobación del crédito a un buen cliente, y por lo tanto, la institución financiera estaría \"dejando negocio sobre la mesa\". Por el otro lado, el predecir un falso positivo significa otorgarle crédito a un mal pagador, y por lo tanto, aumentar el porcentaje de cartera vencida de la institución financiera. Entonces, para definir el umbral de decisión, debemos determinar qué es más costoso para la institución financiera, si dejar negocio sobre la mesa, o aumentar su porcentaje de cartera vencida. Para definirlo con certeza, tendríamos que analizar el valor que cada cliente deja a la empresa, y el costo que implica cada cliente en cartera vencida; no obstante, sabemos que el valor recibido de un crédito es la ganancia en intereses, el cual suele ser un porcentaje menor al 100% del capital, y por otro lado, el costo de un cliente que se va a cartera vencida implica perder el capital invertido, más el costo de oportunidad de no haber invertido ese capital en un buen cliente que generara ganancias. Por lo tanto, podemos determinar con un alto nivel de certeza que la priordad del modelo debe ser minimizar los falsos positivos.<br><br>\n",
        ">**Métrica a utilizar**<br>\n",
        ">Ahora que sabemos que la prioridad de nuestro modelo de clasificación debe ser minimizar el número de falsos positivos, podemos seleccionar una métrica de desempeño que dé priordad a este objetivo, como sería el caso de *Precision*, cuya máxima priordad es precisamente minimizar los falsos positivos.<br><br>$Precision = VP/VP+FP$."
      ]
    },
    {
      "cell_type": "markdown",
      "metadata": {
        "id": "7p5BI8MHuf2v"
      },
      "source": [
        "- **Ejercicio 2.3**<br>\n",
        "&nbsp;&nbsp;&nbsp;&nbsp; Telco customer churn: IBM dataset:<br>\n",
        "&nbsp;&nbsp;&nbsp;&nbsp; https://www.kaggle.com/datasets/yeanzc/telco-customer-churn-ibm-dataset"
      ]
    },
    {
      "cell_type": "code",
      "execution_count": null,
      "metadata": {
        "id": "cK24UoFAuf2w"
      },
      "outputs": [],
      "source": []
    },
    {
      "cell_type": "markdown",
      "metadata": {
        "id": "Q03JJV53uf2w"
      },
      "source": [
        "- **Ejercicio 2.4**<br>\n",
        "&nbsp;&nbsp;&nbsp;&nbsp; Qualitative_Bankruptcy Data Set:<br>\n",
        "&nbsp;&nbsp;&nbsp;&nbsp; https://archive.ics.uci.edu/ml/datasets/Qualitative_Bankruptcy"
      ]
    },
    {
      "cell_type": "code",
      "execution_count": null,
      "metadata": {
        "id": "w8yTLvXLuf2w"
      },
      "outputs": [],
      "source": [
        "# Se incluye aquí todos módulos requeridos.\n",
        "import pandas as pd\n",
        "import numpy as np"
      ]
    },
    {
      "cell_type": "code",
      "source": [
        "#Se cargan los datos del ejercicio.\n",
        "path = \"https://raw.githubusercontent.com/jogabenn/Actividades-MNA-Inteligencia-Artificial-y-Aprendizaje-Automatico/main/Actividades%20Semana%209/Qualitative_Bankruptcy.data.txt\"\n",
        "\n",
        "#Se crea un dataframe pandas sin header, separado por comas sin encabezado\n",
        "df = pd.read_csv(path, sep=\",\", header=None)\n",
        "\n",
        "#Se asigna el nombre de las columnas\n",
        "df.columns = ['IR','MR','FF','CR','CO','OP','Class']\n",
        "\n",
        "#Se imprime el encabezado\n",
        "df.head()"
      ],
      "metadata": {
        "id": "MnknI-oMZORF",
        "outputId": "02fe5896-2e65-48d1-a3ca-81dc6a3818cf",
        "colab": {
          "base_uri": "https://localhost:8080/",
          "height": 206
        }
      },
      "execution_count": null,
      "outputs": [
        {
          "output_type": "execute_result",
          "data": {
            "text/plain": [
              "  IR MR FF CR CO OP Class\n",
              "0  P  P  A  A  A  P    NB\n",
              "1  N  N  A  A  A  N    NB\n",
              "2  A  A  A  A  A  A    NB\n",
              "3  P  P  P  P  P  P    NB\n",
              "4  N  N  P  P  P  N    NB"
            ],
            "text/html": [
              "\n",
              "  <div id=\"df-1aec2978-bc10-4851-bfed-5be6ee9d4558\">\n",
              "    <div class=\"colab-df-container\">\n",
              "      <div>\n",
              "<style scoped>\n",
              "    .dataframe tbody tr th:only-of-type {\n",
              "        vertical-align: middle;\n",
              "    }\n",
              "\n",
              "    .dataframe tbody tr th {\n",
              "        vertical-align: top;\n",
              "    }\n",
              "\n",
              "    .dataframe thead th {\n",
              "        text-align: right;\n",
              "    }\n",
              "</style>\n",
              "<table border=\"1\" class=\"dataframe\">\n",
              "  <thead>\n",
              "    <tr style=\"text-align: right;\">\n",
              "      <th></th>\n",
              "      <th>IR</th>\n",
              "      <th>MR</th>\n",
              "      <th>FF</th>\n",
              "      <th>CR</th>\n",
              "      <th>CO</th>\n",
              "      <th>OP</th>\n",
              "      <th>Class</th>\n",
              "    </tr>\n",
              "  </thead>\n",
              "  <tbody>\n",
              "    <tr>\n",
              "      <th>0</th>\n",
              "      <td>P</td>\n",
              "      <td>P</td>\n",
              "      <td>A</td>\n",
              "      <td>A</td>\n",
              "      <td>A</td>\n",
              "      <td>P</td>\n",
              "      <td>NB</td>\n",
              "    </tr>\n",
              "    <tr>\n",
              "      <th>1</th>\n",
              "      <td>N</td>\n",
              "      <td>N</td>\n",
              "      <td>A</td>\n",
              "      <td>A</td>\n",
              "      <td>A</td>\n",
              "      <td>N</td>\n",
              "      <td>NB</td>\n",
              "    </tr>\n",
              "    <tr>\n",
              "      <th>2</th>\n",
              "      <td>A</td>\n",
              "      <td>A</td>\n",
              "      <td>A</td>\n",
              "      <td>A</td>\n",
              "      <td>A</td>\n",
              "      <td>A</td>\n",
              "      <td>NB</td>\n",
              "    </tr>\n",
              "    <tr>\n",
              "      <th>3</th>\n",
              "      <td>P</td>\n",
              "      <td>P</td>\n",
              "      <td>P</td>\n",
              "      <td>P</td>\n",
              "      <td>P</td>\n",
              "      <td>P</td>\n",
              "      <td>NB</td>\n",
              "    </tr>\n",
              "    <tr>\n",
              "      <th>4</th>\n",
              "      <td>N</td>\n",
              "      <td>N</td>\n",
              "      <td>P</td>\n",
              "      <td>P</td>\n",
              "      <td>P</td>\n",
              "      <td>N</td>\n",
              "      <td>NB</td>\n",
              "    </tr>\n",
              "  </tbody>\n",
              "</table>\n",
              "</div>\n",
              "      <button class=\"colab-df-convert\" onclick=\"convertToInteractive('df-1aec2978-bc10-4851-bfed-5be6ee9d4558')\"\n",
              "              title=\"Convert this dataframe to an interactive table.\"\n",
              "              style=\"display:none;\">\n",
              "        \n",
              "  <svg xmlns=\"http://www.w3.org/2000/svg\" height=\"24px\"viewBox=\"0 0 24 24\"\n",
              "       width=\"24px\">\n",
              "    <path d=\"M0 0h24v24H0V0z\" fill=\"none\"/>\n",
              "    <path d=\"M18.56 5.44l.94 2.06.94-2.06 2.06-.94-2.06-.94-.94-2.06-.94 2.06-2.06.94zm-11 1L8.5 8.5l.94-2.06 2.06-.94-2.06-.94L8.5 2.5l-.94 2.06-2.06.94zm10 10l.94 2.06.94-2.06 2.06-.94-2.06-.94-.94-2.06-.94 2.06-2.06.94z\"/><path d=\"M17.41 7.96l-1.37-1.37c-.4-.4-.92-.59-1.43-.59-.52 0-1.04.2-1.43.59L10.3 9.45l-7.72 7.72c-.78.78-.78 2.05 0 2.83L4 21.41c.39.39.9.59 1.41.59.51 0 1.02-.2 1.41-.59l7.78-7.78 2.81-2.81c.8-.78.8-2.07 0-2.86zM5.41 20L4 18.59l7.72-7.72 1.47 1.35L5.41 20z\"/>\n",
              "  </svg>\n",
              "      </button>\n",
              "      \n",
              "  <style>\n",
              "    .colab-df-container {\n",
              "      display:flex;\n",
              "      flex-wrap:wrap;\n",
              "      gap: 12px;\n",
              "    }\n",
              "\n",
              "    .colab-df-convert {\n",
              "      background-color: #E8F0FE;\n",
              "      border: none;\n",
              "      border-radius: 50%;\n",
              "      cursor: pointer;\n",
              "      display: none;\n",
              "      fill: #1967D2;\n",
              "      height: 32px;\n",
              "      padding: 0 0 0 0;\n",
              "      width: 32px;\n",
              "    }\n",
              "\n",
              "    .colab-df-convert:hover {\n",
              "      background-color: #E2EBFA;\n",
              "      box-shadow: 0px 1px 2px rgba(60, 64, 67, 0.3), 0px 1px 3px 1px rgba(60, 64, 67, 0.15);\n",
              "      fill: #174EA6;\n",
              "    }\n",
              "\n",
              "    [theme=dark] .colab-df-convert {\n",
              "      background-color: #3B4455;\n",
              "      fill: #D2E3FC;\n",
              "    }\n",
              "\n",
              "    [theme=dark] .colab-df-convert:hover {\n",
              "      background-color: #434B5C;\n",
              "      box-shadow: 0px 1px 3px 1px rgba(0, 0, 0, 0.15);\n",
              "      filter: drop-shadow(0px 1px 2px rgba(0, 0, 0, 0.3));\n",
              "      fill: #FFFFFF;\n",
              "    }\n",
              "  </style>\n",
              "\n",
              "      <script>\n",
              "        const buttonEl =\n",
              "          document.querySelector('#df-1aec2978-bc10-4851-bfed-5be6ee9d4558 button.colab-df-convert');\n",
              "        buttonEl.style.display =\n",
              "          google.colab.kernel.accessAllowed ? 'block' : 'none';\n",
              "\n",
              "        async function convertToInteractive(key) {\n",
              "          const element = document.querySelector('#df-1aec2978-bc10-4851-bfed-5be6ee9d4558');\n",
              "          const dataTable =\n",
              "            await google.colab.kernel.invokeFunction('convertToInteractive',\n",
              "                                                     [key], {});\n",
              "          if (!dataTable) return;\n",
              "\n",
              "          const docLinkHtml = 'Like what you see? Visit the ' +\n",
              "            '<a target=\"_blank\" href=https://colab.research.google.com/notebooks/data_table.ipynb>data table notebook</a>'\n",
              "            + ' to learn more about interactive tables.';\n",
              "          element.innerHTML = '';\n",
              "          dataTable['output_type'] = 'display_data';\n",
              "          await google.colab.output.renderOutput(dataTable, element);\n",
              "          const docLink = document.createElement('div');\n",
              "          docLink.innerHTML = docLinkHtml;\n",
              "          element.appendChild(docLink);\n",
              "        }\n",
              "      </script>\n",
              "    </div>\n",
              "  </div>\n",
              "  "
            ]
          },
          "metadata": {},
          "execution_count": 2
        }
      ]
    },
    {
      "cell_type": "markdown",
      "source": [
        "Se analiza si existen valores faltantes a pesar que se mencione que no existen"
      ],
      "metadata": {
        "id": "orhHwwpTZf6w"
      }
    },
    {
      "cell_type": "code",
      "source": [
        "df.isnull().sum()"
      ],
      "metadata": {
        "id": "xNtyMcO3Zg8M",
        "outputId": "11aebad3-28f0-4422-c454-d903f4f13c42",
        "colab": {
          "base_uri": "https://localhost:8080/"
        }
      },
      "execution_count": null,
      "outputs": [
        {
          "output_type": "execute_result",
          "data": {
            "text/plain": [
              "IR       0\n",
              "MR       0\n",
              "FF       0\n",
              "CR       0\n",
              "CO       0\n",
              "OP       0\n",
              "Class    0\n",
              "dtype: int64"
            ]
          },
          "metadata": {},
          "execution_count": 3
        }
      ]
    },
    {
      "cell_type": "markdown",
      "source": [
        "No existen valores faltantes, ahora se procede a verificar cuántos valores existen de cada clase"
      ],
      "metadata": {
        "id": "9jYFP1leZkvX"
      }
    },
    {
      "cell_type": "code",
      "source": [
        "value_counts = df['Class'].value_counts()\n",
        "value_counts"
      ],
      "metadata": {
        "id": "_CUMf6wjZoLS",
        "outputId": "7da3e543-66d8-4e71-e1f1-15158cc99030",
        "colab": {
          "base_uri": "https://localhost:8080/"
        }
      },
      "execution_count": null,
      "outputs": [
        {
          "output_type": "execute_result",
          "data": {
            "text/plain": [
              "NB    143\n",
              "B     107\n",
              "Name: Class, dtype: int64"
            ]
          },
          "metadata": {},
          "execution_count": 4
        }
      ]
    },
    {
      "cell_type": "markdown",
      "source": [
        "Se obtienen los porcentajes de cada clase:"
      ],
      "metadata": {
        "id": "Y-WyV8VFZruc"
      }
    },
    {
      "cell_type": "code",
      "source": [
        "#Se calculan los porcentajes de cada clase\n",
        "print('El porcentaje de datos de la clase NB es: {}'.format(round(value_counts[0]/len(df)*100,2))+'%')\n",
        "print('El porcentaje de datos de la clase B es: {}'.format(round(value_counts[1]/len(df)*100,2))+'%')"
      ],
      "metadata": {
        "id": "zB7OkZ6JZv0D",
        "outputId": "21ee072d-e7c6-4040-a675-1d7b35bf94d1",
        "colab": {
          "base_uri": "https://localhost:8080/"
        }
      },
      "execution_count": null,
      "outputs": [
        {
          "output_type": "stream",
          "name": "stdout",
          "text": [
            "El porcentaje de datos de la clase NB es: 57.2%\n",
            "El porcentaje de datos de la clase B es: 42.8%\n"
          ]
        }
      ]
    },
    {
      "cell_type": "markdown",
      "source": [
        "Estrictamente no se tiene un ejercicio de clases balanceadas debido a que las muestras no son 50% de cada una. Sin embargo, ambas clases contienen un número suficiente de muestras como para tratarse una primera aproximación como clases balanceadas y estudiar los resultados que se obtengan."
      ],
      "metadata": {
        "id": "Fiw_RjeNZ0so"
      }
    },
    {
      "cell_type": "markdown",
      "source": [
        "**Descripción del problema y Objetivo**\n",
        "\n",
        "\"Qualitative Bankruptcy database\" es un conjunto de datos con métricas cualitativas que califican distintos atributos findancieros de una empresa clasificándolas en 3 categorías:\n",
        "\n",
        "1. P - Positivo\n",
        "2. A - Promedio\n",
        "3. N - Negativo\n",
        "\n",
        "Los atributos que corresponden a las variables predictoras son los siguientes:\n",
        "\n",
        "1. Industry risk (IR) : \n",
        "\n",
        "  a. Políticas gubernamentales y acuerdos internacionales\n",
        "  b. Ciclicidad\n",
        "  c. Grado de competencia\n",
        "  d. El precio y la estabilidad de la oferta del mercado\n",
        "  e. El tamaño y el crecimiento de la demanda del mercado\n",
        "  f. La sensibilidad a los cambios en los factores macroeconómicos\n",
        "  g. Poder competitivo nacional e internacional\n",
        "  h. Ciclo de vida del producto.\n",
        "\n",
        "2. Management risk(MR):\n",
        "\n",
        "  a. Capacidad y competencia de la dirección\n",
        "  b. Estabilidad de la gestión\n",
        "  c. La relación entre dirección/propietario\n",
        "  d. Administración de recursos humanos\n",
        "  e. Proceso de crecimiento/rendimiento empresarial\n",
        "  f. Planificación comercial a corto y largo plazo\n",
        "  g. Realización y viabilidad\n",
        "\n",
        "3. Financial Flexibility(FF): \n",
        "  a. Financiamiento directo\n",
        "  b. Financiamiento indirecto\n",
        "  c. Otra financiación\n",
        "\n",
        "4. Credibility (CR):  \n",
        "  a. Historial de crédito\n",
        "  b. fiabilidad de la información\n",
        "  c. La relación con las entidades financieras\n",
        "\n",
        "5. Competitiveness (CO):  \n",
        "  a. Posición de mercado,\n",
        "  b. El nivel de las capacidades básicas\n",
        "  c. Estrategia diferenciada\n",
        "\n",
        "6. Operating Risk (OP):  \n",
        "  a. La estabilidad y diversidad de las adquisiciones\n",
        "  b. La estabilidad de la transacción\n",
        "\n",
        "Al ser variables categóricas completamente cualitativas, tiene que existir un preprocesamiento previso de todos los indicadores anteriores para poder categorizar en qué rango se encuentra la empresa dentro de todas las opciones disponibles.\n",
        "\n",
        "La variable de interés con base en las entradas anteriores, resulta en dos estados:\n",
        "\n",
        "1. B - Bankruptcy\n",
        "2. NB - Non-Bankruptcy\n",
        "\n",
        "Como se puede observar, la base de datos consiste en un ejercicio puro de clasificación, ya que no existen ninguna variable numérica continua. Tomando en cuenta la categorización de las métricas, se considera que el conjunto de datos requiere de un tratamiento tipo \"threshold\", el cual priorice en entedimiento cualitativo del error y nos permita minimizarlo.\n",
        "\n",
        "El objetivo principal del ejercicio es predecir qué combinación de riesgos resultan en una empresa o entidad que presenta un estado de bancarrota basado en el artículo: *Kim, M.-J., & Han, I. (2003). **The discovery of experts' decision rules from qualitative bankruptcy data using genetic algorithms. Expert Systems with Applications**, 25(4), 637–646. https://doi.org/10.1016/s0957-4174(03)00102-7*\n",
        "\n",
        "El cual trata por medio de algoritmos genéticos predecir lo anterior, logrando resultados que coinciden con los de los expertos en el tema.\n",
        "\n",
        "**Técnicas de Balanceo de Clases**\n",
        "\n",
        "Posterior a análisis de las clases, se tiene que El porcentaje de datos de la clase NB es: 57.2% y porcentaje de datos de la clase B es: 42.8%. Estrictamente no se puede decir que se tenga un conjunto de datos balanceado ya que no se cuenta con ambas clases al 50%, pero se puede decir que se cuenta con un número suficiente de la clase de interés para considerar el ejercicio lo suficientemente balanceado como para requerir técnicas de balanceo. Dependiendo de los resultados de desempeño del clasificador, se puede considerar o no el requerimiento de técnicas de balanceo.\n",
        "\n",
        "**Implicaciones de FN y FP**\n",
        "\n",
        "Para este caso, se considera que se deben de minimizar los falsos negativos debido a los efectos negativos para los todos sectores que están involucrados con la bancarrota de una entidad y sus repercusiones sociales. En este caso, el costo de los falsos positivos es menor que el de los falsos negativos y se toma el riesgo de maximizar la métrica de los verdaderos positivos, con el objetivo de capturar el mayor número de los mismos posible.\n",
        "\n",
        "**Métrica a utilizar**\n",
        "\n",
        "La métrica de exhaustividad o recall nos permite medir el desempeño sobre qué tantas predicciones positivas se están teniendo en comparación con la suma del total real de positivos, lo que nos permite minimizar la cantidad de falsos negativos, lo cual conincide con lo expresado en el punto anterior.\n",
        "\n",
        "<br><br>$Recall = VP/(VP+FN$)."
      ],
      "metadata": {
        "id": "QoCUYYQCZ5d6"
      }
    },
    {
      "cell_type": "markdown",
      "metadata": {
        "id": "h3xnqvwPuf2w"
      },
      "source": [
        "---"
      ]
    }
  ],
  "metadata": {
    "colab": {
      "provenance": [],
      "include_colab_link": true
    },
    "language_info": {
      "name": "python"
    },
    "orig_nbformat": 4,
    "kernelspec": {
      "name": "python3",
      "display_name": "Python 3"
    },
    "gpuClass": "standard"
  },
  "nbformat": 4,
  "nbformat_minor": 0
}